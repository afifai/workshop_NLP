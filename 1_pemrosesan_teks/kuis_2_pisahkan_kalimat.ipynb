{
 "cells": [
  {
   "cell_type": "code",
   "execution_count": null,
   "metadata": {},
   "outputs": [],
   "source": [
    "\"\"\"Split teks menjadi token\"\"\"\n",
    "\n",
    "import re\n",
    "\n",
    "def tokenisasi_kalimat(teks):\n",
    "    \"\"\"Split teks menjadi kalimat.\"\"\"\n",
    "    \n",
    "    # TODO: Split teks untuk semua delimiter (dan hapus delimiternya)\n",
    "    \n",
    "    # TODO: Hapus spasi yang berlebihan (double space / triple)\n",
    "    \n",
    "    pass  # TODO: Return kumpulan kalimat\n",
    "\n",
    "def tokenisasi_kata(kalimat):\n",
    "    \"\"\"Split kalimat menjadi kata-kata.\"\"\"\n",
    "    \n",
    "    # TODO: Split kalimat menjadi kata-kata (dan hapus delimiternya)\n",
    "    \n",
    "    # TODO: Hapus spasi yang berlebihan (double space / triple)\n",
    "    \n",
    "    pass  # TODO: Return kumpulan kata-kata (remove blank strings)\n",
    "\n",
    "\n",
    "def test_run():\n",
    "    \"\"\"Tes programnya.\"\"\"\n",
    "\n",
    "    teks = \"Hidup di iklim tropis membuat Air Conditioner (AC) seakan menjadi sebuah kebutuhan pokok tersendiri bagi masyarakatnya.', 'Seperti pula yang terjadi di Indonesia.', 'Tanpa AC, penghuni rumah kerap merasa tak nyaman karena udara yang panas dan lembap.\"\n",
    "    print(\"--- Contoh teks ---\", teks, sep=\"\\n\")\n",
    "    \n",
    "    kumpulan_kalimat = tokenisasi_kalimat(teks)\n",
    "    print(\"\\n--- Kumpulan Kalimat ---\")\n",
    "    print(kumpulan_kalimat)\n",
    "    \n",
    "    print(\"\\n--- Kumpulan Kata ---\")\n",
    "    for kalimat in kumpulan_kalimat:\n",
    "        print(kalimat)\n",
    "        print(tokenisasi_kata(kalimat))\n",
    "        print() "
   ]
  },
  {
   "cell_type": "code",
   "execution_count": null,
   "metadata": {},
   "outputs": [],
   "source": [
    "test_run()"
   ]
  },
  {
   "cell_type": "code",
   "execution_count": null,
   "metadata": {},
   "outputs": [],
   "source": []
  }
 ],
 "metadata": {
  "kernelspec": {
   "display_name": "Python 3",
   "language": "python",
   "name": "python3"
  },
  "language_info": {
   "codemirror_mode": {
    "name": "ipython",
    "version": 3
   },
   "file_extension": ".py",
   "mimetype": "text/x-python",
   "name": "python",
   "nbconvert_exporter": "python",
   "pygments_lexer": "ipython3",
   "version": "3.6.5"
  }
 },
 "nbformat": 4,
 "nbformat_minor": 2
}
