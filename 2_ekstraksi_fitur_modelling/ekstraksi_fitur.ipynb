{
 "cells": [
  {
   "cell_type": "markdown",
   "metadata": {},
   "source": [
    "# Ekstraksi Fitur pada Teks"
   ]
  },
  {
   "cell_type": "markdown",
   "metadata": {},
   "source": [
    "### Model Bag of Words"
   ]
  },
  {
   "cell_type": "code",
   "execution_count": 1,
   "metadata": {},
   "outputs": [],
   "source": [
    "import pandas as pd"
   ]
  },
  {
   "cell_type": "code",
   "execution_count": 2,
   "metadata": {},
   "outputs": [],
   "source": [
    "# contoh teks untuk training model\n",
    "corpus = [\n",
    "    'Kami sedang belajar data science',\n",
    "    'Kami mempelajari Machine Learning untuk data teks',\n",
    "    'Data Science adalah Ilmu Data',\n",
    "    'Kami sangat antusias belajar Data Science',\n",
    "    'Banyak data data bertebaran di Internet'\n",
    "]"
   ]
  },
  {
   "cell_type": "markdown",
   "metadata": {},
   "source": [
    "Dari [dokumentasi scikit-learn](http://scikit-learn.org/stable/modules/feature_extraction.html#text-feature-extraction):\n",
    "\n",
    "> Text Analysis is a major application field for machine learning algorithms. However the raw data, a sequence of symbols cannot be fed directly to the algorithms themselves as most of them expect **numerical feature vectors with a fixed size** rather than the **raw text documents with variable length**.\n",
    "\n",
    "Kita akan menggunakan [CountVectorizer](http://scikit-learn.org/stable/modules/generated/sklearn.feature_extraction.text.CountVectorizer.html) untuk mengubah \"teks menjadi matriks\":"
   ]
  },
  {
   "cell_type": "code",
   "execution_count": 3,
   "metadata": {},
   "outputs": [],
   "source": [
    "# inisiasi model bag of words\n",
    "from sklearn.feature_extraction.text import CountVectorizer\n",
    "vect = CountVectorizer()"
   ]
  },
  {
   "cell_type": "code",
   "execution_count": 4,
   "metadata": {},
   "outputs": [
    {
     "data": {
      "text/plain": [
       "CountVectorizer(analyzer='word', binary=False, decode_error='strict',\n",
       "        dtype=<class 'numpy.int64'>, encoding='utf-8', input='content',\n",
       "        lowercase=True, max_df=1.0, max_features=None, min_df=1,\n",
       "        ngram_range=(1, 1), preprocessor=None, stop_words=None,\n",
       "        strip_accents=None, token_pattern='(?u)\\\\b\\\\w\\\\w+\\\\b',\n",
       "        tokenizer=None, vocabulary=None)"
      ]
     },
     "execution_count": 4,
     "metadata": {},
     "output_type": "execute_result"
    }
   ],
   "source": [
    "# pelajari vocab pada corpus\n",
    "vect.fit(corpus)"
   ]
  },
  {
   "cell_type": "code",
   "execution_count": 5,
   "metadata": {},
   "outputs": [
    {
     "data": {
      "text/plain": [
       "['adalah',\n",
       " 'antusias',\n",
       " 'banyak',\n",
       " 'belajar',\n",
       " 'bertebaran',\n",
       " 'data',\n",
       " 'di',\n",
       " 'ilmu',\n",
       " 'internet',\n",
       " 'kami',\n",
       " 'learning',\n",
       " 'machine',\n",
       " 'mempelajari',\n",
       " 'sangat',\n",
       " 'science',\n",
       " 'sedang',\n",
       " 'teks',\n",
       " 'untuk']"
      ]
     },
     "execution_count": 5,
     "metadata": {},
     "output_type": "execute_result"
    }
   ],
   "source": [
    "# lihat vocab\n",
    "vect.get_feature_names()"
   ]
  },
  {
   "cell_type": "code",
   "execution_count": 7,
   "metadata": {},
   "outputs": [
    {
     "data": {
      "text/plain": [
       "<5x18 sparse matrix of type '<class 'numpy.int64'>'\n",
       "\twith 27 stored elements in Compressed Sparse Row format>"
      ]
     },
     "execution_count": 7,
     "metadata": {},
     "output_type": "execute_result"
    }
   ],
   "source": [
    "# transformasikan list corpus menjadi matriks fitur\n",
    "X_vect = vect.transform(corpus)\n",
    "X_vect"
   ]
  },
  {
   "cell_type": "code",
   "execution_count": null,
   "metadata": {},
   "outputs": [],
   "source": [
    "'''\n",
    "Matriks Dense\n",
    "1 0 0\n",
    "0 5 0\n",
    "0 0 1\n",
    "\n",
    "Sparse matrix\n",
    "1 (1,1)\n",
    "5 (2,2)\n",
    "1 (3,3)\n",
    "3x3\n",
    "'''"
   ]
  },
  {
   "cell_type": "code",
   "execution_count": 8,
   "metadata": {},
   "outputs": [
    {
     "data": {
      "text/plain": [
       "array([[0, 0, 0, 1, 0, 1, 0, 0, 0, 1, 0, 0, 0, 0, 1, 1, 0, 0],\n",
       "       [0, 0, 0, 0, 0, 1, 0, 0, 0, 1, 1, 1, 1, 0, 0, 0, 1, 1],\n",
       "       [1, 0, 0, 0, 0, 2, 0, 1, 0, 0, 0, 0, 0, 0, 1, 0, 0, 0],\n",
       "       [0, 1, 0, 1, 0, 1, 0, 0, 0, 1, 0, 0, 0, 1, 1, 0, 0, 0],\n",
       "       [0, 0, 1, 0, 1, 2, 1, 0, 1, 0, 0, 0, 0, 0, 0, 0, 0, 0]])"
      ]
     },
     "execution_count": 8,
     "metadata": {},
     "output_type": "execute_result"
    }
   ],
   "source": [
    "# ubah sparse matriks menjadi dense matriks\n",
    "X_vect.toarray()"
   ]
  },
  {
   "cell_type": "code",
   "execution_count": 9,
   "metadata": {},
   "outputs": [
    {
     "data": {
      "text/html": [
       "<div>\n",
       "<style scoped>\n",
       "    .dataframe tbody tr th:only-of-type {\n",
       "        vertical-align: middle;\n",
       "    }\n",
       "\n",
       "    .dataframe tbody tr th {\n",
       "        vertical-align: top;\n",
       "    }\n",
       "\n",
       "    .dataframe thead th {\n",
       "        text-align: right;\n",
       "    }\n",
       "</style>\n",
       "<table border=\"1\" class=\"dataframe\">\n",
       "  <thead>\n",
       "    <tr style=\"text-align: right;\">\n",
       "      <th></th>\n",
       "      <th>adalah</th>\n",
       "      <th>antusias</th>\n",
       "      <th>banyak</th>\n",
       "      <th>belajar</th>\n",
       "      <th>bertebaran</th>\n",
       "      <th>data</th>\n",
       "      <th>di</th>\n",
       "      <th>ilmu</th>\n",
       "      <th>internet</th>\n",
       "      <th>kami</th>\n",
       "      <th>learning</th>\n",
       "      <th>machine</th>\n",
       "      <th>mempelajari</th>\n",
       "      <th>sangat</th>\n",
       "      <th>science</th>\n",
       "      <th>sedang</th>\n",
       "      <th>teks</th>\n",
       "      <th>untuk</th>\n",
       "    </tr>\n",
       "  </thead>\n",
       "  <tbody>\n",
       "    <tr>\n",
       "      <th>0</th>\n",
       "      <td>0</td>\n",
       "      <td>0</td>\n",
       "      <td>0</td>\n",
       "      <td>1</td>\n",
       "      <td>0</td>\n",
       "      <td>1</td>\n",
       "      <td>0</td>\n",
       "      <td>0</td>\n",
       "      <td>0</td>\n",
       "      <td>1</td>\n",
       "      <td>0</td>\n",
       "      <td>0</td>\n",
       "      <td>0</td>\n",
       "      <td>0</td>\n",
       "      <td>1</td>\n",
       "      <td>1</td>\n",
       "      <td>0</td>\n",
       "      <td>0</td>\n",
       "    </tr>\n",
       "    <tr>\n",
       "      <th>1</th>\n",
       "      <td>0</td>\n",
       "      <td>0</td>\n",
       "      <td>0</td>\n",
       "      <td>0</td>\n",
       "      <td>0</td>\n",
       "      <td>1</td>\n",
       "      <td>0</td>\n",
       "      <td>0</td>\n",
       "      <td>0</td>\n",
       "      <td>1</td>\n",
       "      <td>1</td>\n",
       "      <td>1</td>\n",
       "      <td>1</td>\n",
       "      <td>0</td>\n",
       "      <td>0</td>\n",
       "      <td>0</td>\n",
       "      <td>1</td>\n",
       "      <td>1</td>\n",
       "    </tr>\n",
       "    <tr>\n",
       "      <th>2</th>\n",
       "      <td>1</td>\n",
       "      <td>0</td>\n",
       "      <td>0</td>\n",
       "      <td>0</td>\n",
       "      <td>0</td>\n",
       "      <td>2</td>\n",
       "      <td>0</td>\n",
       "      <td>1</td>\n",
       "      <td>0</td>\n",
       "      <td>0</td>\n",
       "      <td>0</td>\n",
       "      <td>0</td>\n",
       "      <td>0</td>\n",
       "      <td>0</td>\n",
       "      <td>1</td>\n",
       "      <td>0</td>\n",
       "      <td>0</td>\n",
       "      <td>0</td>\n",
       "    </tr>\n",
       "    <tr>\n",
       "      <th>3</th>\n",
       "      <td>0</td>\n",
       "      <td>1</td>\n",
       "      <td>0</td>\n",
       "      <td>1</td>\n",
       "      <td>0</td>\n",
       "      <td>1</td>\n",
       "      <td>0</td>\n",
       "      <td>0</td>\n",
       "      <td>0</td>\n",
       "      <td>1</td>\n",
       "      <td>0</td>\n",
       "      <td>0</td>\n",
       "      <td>0</td>\n",
       "      <td>1</td>\n",
       "      <td>1</td>\n",
       "      <td>0</td>\n",
       "      <td>0</td>\n",
       "      <td>0</td>\n",
       "    </tr>\n",
       "    <tr>\n",
       "      <th>4</th>\n",
       "      <td>0</td>\n",
       "      <td>0</td>\n",
       "      <td>1</td>\n",
       "      <td>0</td>\n",
       "      <td>1</td>\n",
       "      <td>2</td>\n",
       "      <td>1</td>\n",
       "      <td>0</td>\n",
       "      <td>1</td>\n",
       "      <td>0</td>\n",
       "      <td>0</td>\n",
       "      <td>0</td>\n",
       "      <td>0</td>\n",
       "      <td>0</td>\n",
       "      <td>0</td>\n",
       "      <td>0</td>\n",
       "      <td>0</td>\n",
       "      <td>0</td>\n",
       "    </tr>\n",
       "  </tbody>\n",
       "</table>\n",
       "</div>"
      ],
      "text/plain": [
       "   adalah  antusias  banyak  belajar  bertebaran  data  di  ilmu  internet  \\\n",
       "0       0         0       0        1           0     1   0     0         0   \n",
       "1       0         0       0        0           0     1   0     0         0   \n",
       "2       1         0       0        0           0     2   0     1         0   \n",
       "3       0         1       0        1           0     1   0     0         0   \n",
       "4       0         0       1        0           1     2   1     0         1   \n",
       "\n",
       "   kami  learning  machine  mempelajari  sangat  science  sedang  teks  untuk  \n",
       "0     1         0        0            0       0        1       1     0      0  \n",
       "1     1         1        1            1       0        0       0     1      1  \n",
       "2     0         0        0            0       0        1       0     0      0  \n",
       "3     1         0        0            0       1        1       0     0      0  \n",
       "4     0         0        0            0       0        0       0     0      0  "
      ]
     },
     "execution_count": 9,
     "metadata": {},
     "output_type": "execute_result"
    }
   ],
   "source": [
    "# lihat arti dari fitur menggunakan pandas dataframe\n",
    "pd.DataFrame(X_vect.toarray(),\n",
    "             columns=vect.get_feature_names())"
   ]
  },
  {
   "cell_type": "markdown",
   "metadata": {},
   "source": [
    "Dari [dokumentasi scikit-learn](http://scikit-learn.org/stable/modules/feature_extraction.html#text-feature-extraction):\n",
    "\n",
    "> In this scheme, features and samples are defined as follows:\n",
    "\n",
    "> - Each individual token occurrence frequency (normalized or not) is treated as a **feature**.\n",
    "> - The vector of all the token frequencies for a given document is considered a multivariate **sample**.\n",
    "\n",
    "> A **corpus of documents** can thus be represented by a matrix with **one row per document** and **one column per token** (e.g. word) occurring in the corpus.\n",
    "\n",
    "> We call **vectorization** the general process of turning a collection of text documents into numerical feature vectors. This specific strategy (tokenization, counting and normalization) is called the **Bag of Words** or \"Bag of n-grams\" representation. Documents are described by word occurrences while completely ignoring the relative position information of the words in the document."
   ]
  },
  {
   "cell_type": "code",
   "execution_count": 10,
   "metadata": {},
   "outputs": [
    {
     "data": {
      "text/plain": [
       "list"
      ]
     },
     "execution_count": 10,
     "metadata": {},
     "output_type": "execute_result"
    }
   ],
   "source": [
    "# cek tipe corpus\n",
    "type(corpus)"
   ]
  },
  {
   "cell_type": "code",
   "execution_count": 11,
   "metadata": {
    "scrolled": true
   },
   "outputs": [
    {
     "name": "stdout",
     "output_type": "stream",
     "text": [
      "['Kami sedang belajar data science', 'Kami mempelajari Machine Learning untuk data teks', 'Data Science adalah Ilmu Data', 'Kami sangat antusias belajar Data Science', 'Banyak data data bertebaran di Internet']\n"
     ]
    }
   ],
   "source": [
    "# lihat korpus\n",
    "print(corpus)"
   ]
  },
  {
   "cell_type": "markdown",
   "metadata": {},
   "source": [
    "Dari [dokumentasi scikit-learn](http://scikit-learn.org/stable/modules/feature_extraction.html#text-feature-extraction):\n",
    "\n",
    "> As most documents will typically use a very small subset of the words used in the corpus, the resulting matrix will have **many feature values that are zeros** (typically more than 99% of them).\n",
    "\n",
    "> For instance, a collection of 10,000 short text documents (such as emails) will use a vocabulary with a size in the order of 100,000 unique words in total while each document will use 100 to 1000 unique words individually.\n",
    "\n",
    "> In order to be able to **store such a matrix in memory** but also to **speed up operations**, implementations will typically use a **sparse representation** such as the implementations available in the `scipy.sparse` package."
   ]
  },
  {
   "cell_type": "code",
   "execution_count": 12,
   "metadata": {},
   "outputs": [],
   "source": [
    "# Contoh tes model\n",
    "simple_test = [\"saya adalah data scientist\"]"
   ]
  },
  {
   "cell_type": "markdown",
   "metadata": {},
   "source": [
    "Untuk **membuat prediksi**, observasi harus memiliki **fitur yang sama seperti data training**, dari jumlah dan maknanya."
   ]
  },
  {
   "cell_type": "code",
   "execution_count": 13,
   "metadata": {},
   "outputs": [],
   "source": [
    "# transformasi teks baru kedalam matriks\n",
    "simple_test_vect = vect.transform(simple_test)"
   ]
  },
  {
   "cell_type": "code",
   "execution_count": 14,
   "metadata": {},
   "outputs": [
    {
     "data": {
      "text/html": [
       "<div>\n",
       "<style scoped>\n",
       "    .dataframe tbody tr th:only-of-type {\n",
       "        vertical-align: middle;\n",
       "    }\n",
       "\n",
       "    .dataframe tbody tr th {\n",
       "        vertical-align: top;\n",
       "    }\n",
       "\n",
       "    .dataframe thead th {\n",
       "        text-align: right;\n",
       "    }\n",
       "</style>\n",
       "<table border=\"1\" class=\"dataframe\">\n",
       "  <thead>\n",
       "    <tr style=\"text-align: right;\">\n",
       "      <th></th>\n",
       "      <th>adalah</th>\n",
       "      <th>antusias</th>\n",
       "      <th>banyak</th>\n",
       "      <th>belajar</th>\n",
       "      <th>bertebaran</th>\n",
       "      <th>data</th>\n",
       "      <th>di</th>\n",
       "      <th>ilmu</th>\n",
       "      <th>internet</th>\n",
       "      <th>kami</th>\n",
       "      <th>learning</th>\n",
       "      <th>machine</th>\n",
       "      <th>mempelajari</th>\n",
       "      <th>sangat</th>\n",
       "      <th>science</th>\n",
       "      <th>sedang</th>\n",
       "      <th>teks</th>\n",
       "      <th>untuk</th>\n",
       "    </tr>\n",
       "  </thead>\n",
       "  <tbody>\n",
       "    <tr>\n",
       "      <th>0</th>\n",
       "      <td>1</td>\n",
       "      <td>0</td>\n",
       "      <td>0</td>\n",
       "      <td>0</td>\n",
       "      <td>0</td>\n",
       "      <td>1</td>\n",
       "      <td>0</td>\n",
       "      <td>0</td>\n",
       "      <td>0</td>\n",
       "      <td>0</td>\n",
       "      <td>0</td>\n",
       "      <td>0</td>\n",
       "      <td>0</td>\n",
       "      <td>0</td>\n",
       "      <td>0</td>\n",
       "      <td>0</td>\n",
       "      <td>0</td>\n",
       "      <td>0</td>\n",
       "    </tr>\n",
       "  </tbody>\n",
       "</table>\n",
       "</div>"
      ],
      "text/plain": [
       "   adalah  antusias  banyak  belajar  bertebaran  data  di  ilmu  internet  \\\n",
       "0       1         0       0        0           0     1   0     0         0   \n",
       "\n",
       "   kami  learning  machine  mempelajari  sangat  science  sedang  teks  untuk  \n",
       "0     0         0        0            0       0        0       0     0      0  "
      ]
     },
     "execution_count": 14,
     "metadata": {},
     "output_type": "execute_result"
    }
   ],
   "source": [
    "# lihat menggunakan pandas dataframe\n",
    "pd.DataFrame(simple_test_vect.toarray(), columns=vect.get_feature_names())"
   ]
  },
  {
   "cell_type": "markdown",
   "metadata": {},
   "source": [
    "**Ringkasan:**\n",
    "\n",
    "- `vect.fit(train)` **memelajari vocabulary** dari data training\n",
    "- `vect.transform(train)` menggunakan **vocabulary yang sudah dibuat** untuk membangun matriks fitur data training\n",
    "- `vect.transform(test)` menggunakan **vocabulary yang sudah dibuat** untuk membangun matriks fitur data test"
   ]
  },
  {
   "cell_type": "markdown",
   "metadata": {},
   "source": [
    "### Model Tf-Idf"
   ]
  },
  {
   "cell_type": "markdown",
   "metadata": {},
   "source": [
    "Kita akan menggunakan [TfidfVectorizer](http://scikit-learn.org/stable/modules/generated/sklearn.feature_extraction.text.TfidfVectorizer.html) untuk mengubah \"teks menjadi matriks\":"
   ]
  },
  {
   "cell_type": "code",
   "execution_count": 15,
   "metadata": {},
   "outputs": [],
   "source": [
    "# inisiasi model tfidf\n",
    "from sklearn.feature_extraction.text import TfidfVectorizer\n",
    "vect = TfidfVectorizer()"
   ]
  },
  {
   "cell_type": "code",
   "execution_count": 16,
   "metadata": {},
   "outputs": [
    {
     "data": {
      "text/plain": [
       "TfidfVectorizer(analyzer='word', binary=False, decode_error='strict',\n",
       "        dtype=<class 'numpy.float64'>, encoding='utf-8', input='content',\n",
       "        lowercase=True, max_df=1.0, max_features=None, min_df=1,\n",
       "        ngram_range=(1, 1), norm='l2', preprocessor=None, smooth_idf=True,\n",
       "        stop_words=None, strip_accents=None, sublinear_tf=False,\n",
       "        token_pattern='(?u)\\\\b\\\\w\\\\w+\\\\b', tokenizer=None, use_idf=True,\n",
       "        vocabulary=None)"
      ]
     },
     "execution_count": 16,
     "metadata": {},
     "output_type": "execute_result"
    }
   ],
   "source": [
    "# pelajari vocab pada corpus\n",
    "vect.fit(corpus)"
   ]
  },
  {
   "cell_type": "code",
   "execution_count": 17,
   "metadata": {},
   "outputs": [
    {
     "data": {
      "text/plain": [
       "['adalah',\n",
       " 'antusias',\n",
       " 'banyak',\n",
       " 'belajar',\n",
       " 'bertebaran',\n",
       " 'data',\n",
       " 'di',\n",
       " 'ilmu',\n",
       " 'internet',\n",
       " 'kami',\n",
       " 'learning',\n",
       " 'machine',\n",
       " 'mempelajari',\n",
       " 'sangat',\n",
       " 'science',\n",
       " 'sedang',\n",
       " 'teks',\n",
       " 'untuk']"
      ]
     },
     "execution_count": 17,
     "metadata": {},
     "output_type": "execute_result"
    }
   ],
   "source": [
    "# lihat vocab\n",
    "vect.get_feature_names()"
   ]
  },
  {
   "cell_type": "code",
   "execution_count": 18,
   "metadata": {},
   "outputs": [],
   "source": [
    "# transformasikan list corpus menjadi matriks fitur\n",
    "X_vect = vect.transform(corpus)"
   ]
  },
  {
   "cell_type": "code",
   "execution_count": 19,
   "metadata": {},
   "outputs": [
    {
     "data": {
      "text/plain": [
       "array([[0.        , 0.        , 0.        , 0.48431837, 0.        ,\n",
       "        0.28604623, 0.        , 0.        , 0.        , 0.402028  ,\n",
       "        0.        , 0.        , 0.        , 0.        , 0.402028  ,\n",
       "        0.60030013, 0.        , 0.        ],\n",
       "       [0.        , 0.        , 0.        , 0.        , 0.        ,\n",
       "        0.2000152 , 0.        , 0.        , 0.        , 0.28111439,\n",
       "        0.41975436, 0.41975436, 0.41975436, 0.        , 0.        ,\n",
       "        0.        , 0.41975436, 0.41975436],\n",
       "       [0.54580932, 0.        , 0.        , 0.        , 0.        ,\n",
       "        0.52016213, 0.        , 0.54580932, 0.        , 0.        ,\n",
       "        0.        , 0.        , 0.        , 0.        , 0.36553486,\n",
       "        0.        , 0.        , 0.        ],\n",
       "       [0.        , 0.51468496, 0.        , 0.41524458, 0.        ,\n",
       "        0.24525014, 0.        , 0.        , 0.        , 0.34469051,\n",
       "        0.        , 0.        , 0.        , 0.51468496, 0.34469051,\n",
       "        0.        , 0.        , 0.        ],\n",
       "       [0.        , 0.        , 0.45137507, 0.        , 0.45137507,\n",
       "        0.43016528, 0.45137507, 0.        , 0.45137507, 0.        ,\n",
       "        0.        , 0.        , 0.        , 0.        , 0.        ,\n",
       "        0.        , 0.        , 0.        ]])"
      ]
     },
     "execution_count": 19,
     "metadata": {},
     "output_type": "execute_result"
    }
   ],
   "source": [
    "# ubah sparse matriks menjadi dense matriks\n",
    "X_vect.toarray()"
   ]
  },
  {
   "cell_type": "code",
   "execution_count": 20,
   "metadata": {},
   "outputs": [
    {
     "data": {
      "text/html": [
       "<div>\n",
       "<style scoped>\n",
       "    .dataframe tbody tr th:only-of-type {\n",
       "        vertical-align: middle;\n",
       "    }\n",
       "\n",
       "    .dataframe tbody tr th {\n",
       "        vertical-align: top;\n",
       "    }\n",
       "\n",
       "    .dataframe thead th {\n",
       "        text-align: right;\n",
       "    }\n",
       "</style>\n",
       "<table border=\"1\" class=\"dataframe\">\n",
       "  <thead>\n",
       "    <tr style=\"text-align: right;\">\n",
       "      <th></th>\n",
       "      <th>adalah</th>\n",
       "      <th>antusias</th>\n",
       "      <th>banyak</th>\n",
       "      <th>belajar</th>\n",
       "      <th>bertebaran</th>\n",
       "      <th>data</th>\n",
       "      <th>di</th>\n",
       "      <th>ilmu</th>\n",
       "      <th>internet</th>\n",
       "      <th>kami</th>\n",
       "      <th>learning</th>\n",
       "      <th>machine</th>\n",
       "      <th>mempelajari</th>\n",
       "      <th>sangat</th>\n",
       "      <th>science</th>\n",
       "      <th>sedang</th>\n",
       "      <th>teks</th>\n",
       "      <th>untuk</th>\n",
       "    </tr>\n",
       "  </thead>\n",
       "  <tbody>\n",
       "    <tr>\n",
       "      <th>0</th>\n",
       "      <td>0.000000</td>\n",
       "      <td>0.000000</td>\n",
       "      <td>0.000000</td>\n",
       "      <td>0.484318</td>\n",
       "      <td>0.000000</td>\n",
       "      <td>0.286046</td>\n",
       "      <td>0.000000</td>\n",
       "      <td>0.000000</td>\n",
       "      <td>0.000000</td>\n",
       "      <td>0.402028</td>\n",
       "      <td>0.000000</td>\n",
       "      <td>0.000000</td>\n",
       "      <td>0.000000</td>\n",
       "      <td>0.000000</td>\n",
       "      <td>0.402028</td>\n",
       "      <td>0.6003</td>\n",
       "      <td>0.000000</td>\n",
       "      <td>0.000000</td>\n",
       "    </tr>\n",
       "    <tr>\n",
       "      <th>1</th>\n",
       "      <td>0.000000</td>\n",
       "      <td>0.000000</td>\n",
       "      <td>0.000000</td>\n",
       "      <td>0.000000</td>\n",
       "      <td>0.000000</td>\n",
       "      <td>0.200015</td>\n",
       "      <td>0.000000</td>\n",
       "      <td>0.000000</td>\n",
       "      <td>0.000000</td>\n",
       "      <td>0.281114</td>\n",
       "      <td>0.419754</td>\n",
       "      <td>0.419754</td>\n",
       "      <td>0.419754</td>\n",
       "      <td>0.000000</td>\n",
       "      <td>0.000000</td>\n",
       "      <td>0.0000</td>\n",
       "      <td>0.419754</td>\n",
       "      <td>0.419754</td>\n",
       "    </tr>\n",
       "    <tr>\n",
       "      <th>2</th>\n",
       "      <td>0.545809</td>\n",
       "      <td>0.000000</td>\n",
       "      <td>0.000000</td>\n",
       "      <td>0.000000</td>\n",
       "      <td>0.000000</td>\n",
       "      <td>0.520162</td>\n",
       "      <td>0.000000</td>\n",
       "      <td>0.545809</td>\n",
       "      <td>0.000000</td>\n",
       "      <td>0.000000</td>\n",
       "      <td>0.000000</td>\n",
       "      <td>0.000000</td>\n",
       "      <td>0.000000</td>\n",
       "      <td>0.000000</td>\n",
       "      <td>0.365535</td>\n",
       "      <td>0.0000</td>\n",
       "      <td>0.000000</td>\n",
       "      <td>0.000000</td>\n",
       "    </tr>\n",
       "    <tr>\n",
       "      <th>3</th>\n",
       "      <td>0.000000</td>\n",
       "      <td>0.514685</td>\n",
       "      <td>0.000000</td>\n",
       "      <td>0.415245</td>\n",
       "      <td>0.000000</td>\n",
       "      <td>0.245250</td>\n",
       "      <td>0.000000</td>\n",
       "      <td>0.000000</td>\n",
       "      <td>0.000000</td>\n",
       "      <td>0.344691</td>\n",
       "      <td>0.000000</td>\n",
       "      <td>0.000000</td>\n",
       "      <td>0.000000</td>\n",
       "      <td>0.514685</td>\n",
       "      <td>0.344691</td>\n",
       "      <td>0.0000</td>\n",
       "      <td>0.000000</td>\n",
       "      <td>0.000000</td>\n",
       "    </tr>\n",
       "    <tr>\n",
       "      <th>4</th>\n",
       "      <td>0.000000</td>\n",
       "      <td>0.000000</td>\n",
       "      <td>0.451375</td>\n",
       "      <td>0.000000</td>\n",
       "      <td>0.451375</td>\n",
       "      <td>0.430165</td>\n",
       "      <td>0.451375</td>\n",
       "      <td>0.000000</td>\n",
       "      <td>0.451375</td>\n",
       "      <td>0.000000</td>\n",
       "      <td>0.000000</td>\n",
       "      <td>0.000000</td>\n",
       "      <td>0.000000</td>\n",
       "      <td>0.000000</td>\n",
       "      <td>0.000000</td>\n",
       "      <td>0.0000</td>\n",
       "      <td>0.000000</td>\n",
       "      <td>0.000000</td>\n",
       "    </tr>\n",
       "  </tbody>\n",
       "</table>\n",
       "</div>"
      ],
      "text/plain": [
       "     adalah  antusias    banyak   belajar  bertebaran      data        di  \\\n",
       "0  0.000000  0.000000  0.000000  0.484318    0.000000  0.286046  0.000000   \n",
       "1  0.000000  0.000000  0.000000  0.000000    0.000000  0.200015  0.000000   \n",
       "2  0.545809  0.000000  0.000000  0.000000    0.000000  0.520162  0.000000   \n",
       "3  0.000000  0.514685  0.000000  0.415245    0.000000  0.245250  0.000000   \n",
       "4  0.000000  0.000000  0.451375  0.000000    0.451375  0.430165  0.451375   \n",
       "\n",
       "       ilmu  internet      kami  learning   machine  mempelajari    sangat  \\\n",
       "0  0.000000  0.000000  0.402028  0.000000  0.000000     0.000000  0.000000   \n",
       "1  0.000000  0.000000  0.281114  0.419754  0.419754     0.419754  0.000000   \n",
       "2  0.545809  0.000000  0.000000  0.000000  0.000000     0.000000  0.000000   \n",
       "3  0.000000  0.000000  0.344691  0.000000  0.000000     0.000000  0.514685   \n",
       "4  0.000000  0.451375  0.000000  0.000000  0.000000     0.000000  0.000000   \n",
       "\n",
       "    science  sedang      teks     untuk  \n",
       "0  0.402028  0.6003  0.000000  0.000000  \n",
       "1  0.000000  0.0000  0.419754  0.419754  \n",
       "2  0.365535  0.0000  0.000000  0.000000  \n",
       "3  0.344691  0.0000  0.000000  0.000000  \n",
       "4  0.000000  0.0000  0.000000  0.000000  "
      ]
     },
     "execution_count": 20,
     "metadata": {},
     "output_type": "execute_result"
    }
   ],
   "source": [
    "# lihat arti dari fitur menggunakan pandas dataframe\n",
    "pd.DataFrame(X_vect.toarray(), columns=vect.get_feature_names())"
   ]
  },
  {
   "cell_type": "code",
   "execution_count": 21,
   "metadata": {},
   "outputs": [],
   "source": [
    "# transformasi teks baru kedalam matriks\n",
    "X_vect_new = vect.transform(simple_test)"
   ]
  },
  {
   "cell_type": "code",
   "execution_count": 22,
   "metadata": {},
   "outputs": [
    {
     "data": {
      "text/html": [
       "<div>\n",
       "<style scoped>\n",
       "    .dataframe tbody tr th:only-of-type {\n",
       "        vertical-align: middle;\n",
       "    }\n",
       "\n",
       "    .dataframe tbody tr th {\n",
       "        vertical-align: top;\n",
       "    }\n",
       "\n",
       "    .dataframe thead th {\n",
       "        text-align: right;\n",
       "    }\n",
       "</style>\n",
       "<table border=\"1\" class=\"dataframe\">\n",
       "  <thead>\n",
       "    <tr style=\"text-align: right;\">\n",
       "      <th></th>\n",
       "      <th>adalah</th>\n",
       "      <th>antusias</th>\n",
       "      <th>banyak</th>\n",
       "      <th>belajar</th>\n",
       "      <th>bertebaran</th>\n",
       "      <th>data</th>\n",
       "      <th>di</th>\n",
       "      <th>ilmu</th>\n",
       "      <th>internet</th>\n",
       "      <th>kami</th>\n",
       "      <th>learning</th>\n",
       "      <th>machine</th>\n",
       "      <th>mempelajari</th>\n",
       "      <th>sangat</th>\n",
       "      <th>science</th>\n",
       "      <th>sedang</th>\n",
       "      <th>teks</th>\n",
       "      <th>untuk</th>\n",
       "    </tr>\n",
       "  </thead>\n",
       "  <tbody>\n",
       "    <tr>\n",
       "      <th>0</th>\n",
       "      <td>0.90275</td>\n",
       "      <td>0.0</td>\n",
       "      <td>0.0</td>\n",
       "      <td>0.0</td>\n",
       "      <td>0.0</td>\n",
       "      <td>0.430165</td>\n",
       "      <td>0.0</td>\n",
       "      <td>0.0</td>\n",
       "      <td>0.0</td>\n",
       "      <td>0.0</td>\n",
       "      <td>0.0</td>\n",
       "      <td>0.0</td>\n",
       "      <td>0.0</td>\n",
       "      <td>0.0</td>\n",
       "      <td>0.0</td>\n",
       "      <td>0.0</td>\n",
       "      <td>0.0</td>\n",
       "      <td>0.0</td>\n",
       "    </tr>\n",
       "  </tbody>\n",
       "</table>\n",
       "</div>"
      ],
      "text/plain": [
       "    adalah  antusias  banyak  belajar  bertebaran      data   di  ilmu  \\\n",
       "0  0.90275       0.0     0.0      0.0         0.0  0.430165  0.0   0.0   \n",
       "\n",
       "   internet  kami  learning  machine  mempelajari  sangat  science  sedang  \\\n",
       "0       0.0   0.0       0.0      0.0          0.0     0.0      0.0     0.0   \n",
       "\n",
       "   teks  untuk  \n",
       "0   0.0    0.0  "
      ]
     },
     "execution_count": 22,
     "metadata": {},
     "output_type": "execute_result"
    }
   ],
   "source": [
    "# lihat menggunakan pandas dataframe\n",
    "pd.DataFrame(X_vect_new.toarray(), columns=vect.get_feature_names())"
   ]
  },
  {
   "cell_type": "code",
   "execution_count": null,
   "metadata": {},
   "outputs": [],
   "source": []
  }
 ],
 "metadata": {
  "kernelspec": {
   "display_name": "Python 3",
   "language": "python",
   "name": "python3"
  },
  "language_info": {
   "codemirror_mode": {
    "name": "ipython",
    "version": 3
   },
   "file_extension": ".py",
   "mimetype": "text/x-python",
   "name": "python",
   "nbconvert_exporter": "python",
   "pygments_lexer": "ipython3",
   "version": "3.6.5"
  }
 },
 "nbformat": 4,
 "nbformat_minor": 1
}
