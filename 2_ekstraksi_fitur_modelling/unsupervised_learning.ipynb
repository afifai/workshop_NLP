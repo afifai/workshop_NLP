{
 "cells": [
  {
   "cell_type": "markdown",
   "metadata": {},
   "source": [
    "# Unsupervised Learning for Text"
   ]
  },
  {
   "cell_type": "markdown",
   "metadata": {},
   "source": [
    "## Bagian 1: Pemrosesan Teks dan Ekstraksi Fitur"
   ]
  },
  {
   "cell_type": "markdown",
   "metadata": {},
   "source": [
    "Pada bagian ini, buka data teks lalu lakukan pemrosesan teks (cleansing, normalisasi, stemming dll.) dan lakukan ekstraksi fitur pada data teks yang sudah diproses"
   ]
  },
  {
   "cell_type": "code",
   "execution_count": 1,
   "metadata": {},
   "outputs": [],
   "source": [
    "import pandas as pd\n",
    "# Baca data\n",
    "path = 'data/sms.tsv'\n",
    "sms  = pd.read_table(path, header=None, names=['label','sms'])\n"
   ]
  },
  {
   "cell_type": "code",
   "execution_count": 2,
   "metadata": {},
   "outputs": [
    {
     "data": {
      "text/plain": [
       "(5572, 2)"
      ]
     },
     "execution_count": 2,
     "metadata": {},
     "output_type": "execute_result"
    }
   ],
   "source": [
    "# lihat ukuran\n",
    "sms.shape"
   ]
  },
  {
   "cell_type": "code",
   "execution_count": 3,
   "metadata": {},
   "outputs": [
    {
     "data": {
      "text/html": [
       "<div>\n",
       "<style scoped>\n",
       "    .dataframe tbody tr th:only-of-type {\n",
       "        vertical-align: middle;\n",
       "    }\n",
       "\n",
       "    .dataframe tbody tr th {\n",
       "        vertical-align: top;\n",
       "    }\n",
       "\n",
       "    .dataframe thead th {\n",
       "        text-align: right;\n",
       "    }\n",
       "</style>\n",
       "<table border=\"1\" class=\"dataframe\">\n",
       "  <thead>\n",
       "    <tr style=\"text-align: right;\">\n",
       "      <th></th>\n",
       "      <th>label</th>\n",
       "      <th>sms</th>\n",
       "    </tr>\n",
       "  </thead>\n",
       "  <tbody>\n",
       "    <tr>\n",
       "      <th>0</th>\n",
       "      <td>ham</td>\n",
       "      <td>Go until jurong point, crazy.. Available only ...</td>\n",
       "    </tr>\n",
       "    <tr>\n",
       "      <th>1</th>\n",
       "      <td>ham</td>\n",
       "      <td>Ok lar... Joking wif u oni...</td>\n",
       "    </tr>\n",
       "    <tr>\n",
       "      <th>2</th>\n",
       "      <td>spam</td>\n",
       "      <td>Free entry in 2 a wkly comp to win FA Cup fina...</td>\n",
       "    </tr>\n",
       "    <tr>\n",
       "      <th>3</th>\n",
       "      <td>ham</td>\n",
       "      <td>U dun say so early hor... U c already then say...</td>\n",
       "    </tr>\n",
       "    <tr>\n",
       "      <th>4</th>\n",
       "      <td>ham</td>\n",
       "      <td>Nah I don't think he goes to usf, he lives aro...</td>\n",
       "    </tr>\n",
       "  </tbody>\n",
       "</table>\n",
       "</div>"
      ],
      "text/plain": [
       "  label                                                sms\n",
       "0   ham  Go until jurong point, crazy.. Available only ...\n",
       "1   ham                      Ok lar... Joking wif u oni...\n",
       "2  spam  Free entry in 2 a wkly comp to win FA Cup fina...\n",
       "3   ham  U dun say so early hor... U c already then say...\n",
       "4   ham  Nah I don't think he goes to usf, he lives aro..."
      ]
     },
     "execution_count": 3,
     "metadata": {},
     "output_type": "execute_result"
    }
   ],
   "source": [
    "# lihat data\n",
    "sms.head()"
   ]
  },
  {
   "cell_type": "code",
   "execution_count": 4,
   "metadata": {},
   "outputs": [],
   "source": [
    "# Ambil data\n",
    "X = sms.sms"
   ]
  },
  {
   "cell_type": "code",
   "execution_count": 5,
   "metadata": {},
   "outputs": [
    {
     "data": {
      "text/plain": [
       "(5572,)"
      ]
     },
     "execution_count": 5,
     "metadata": {},
     "output_type": "execute_result"
    }
   ],
   "source": [
    "# lihat ukuran\n",
    "X.shape"
   ]
  },
  {
   "cell_type": "code",
   "execution_count": 6,
   "metadata": {},
   "outputs": [],
   "source": [
    "# Inisiasi vectorizer\n",
    "from sklearn.feature_extraction.text import TfidfVectorizer\n",
    "vect = TfidfVectorizer(max_df=0.99, min_df=0.005)"
   ]
  },
  {
   "cell_type": "code",
   "execution_count": 7,
   "metadata": {},
   "outputs": [],
   "source": [
    "# Pelajari vocabulary dan ubah data train menjadi matriks\n",
    "X_vec = vect.fit_transform(X)"
   ]
  },
  {
   "cell_type": "code",
   "execution_count": 8,
   "metadata": {},
   "outputs": [
    {
     "data": {
      "text/plain": [
       "<5572x426 sparse matrix of type '<class 'numpy.float64'>'\n",
       "\twith 48935 stored elements in Compressed Sparse Row format>"
      ]
     },
     "execution_count": 8,
     "metadata": {},
     "output_type": "execute_result"
    }
   ],
   "source": [
    "# lihat vektor fitur\n",
    "X_vec"
   ]
  },
  {
   "cell_type": "code",
   "execution_count": null,
   "metadata": {},
   "outputs": [],
   "source": []
  },
  {
   "cell_type": "markdown",
   "metadata": {},
   "source": [
    "## Bagian 3: Pemodelan\n",
    "\n",
    "Misal kita gunakan [multinomial Naive Bayes](http://scikit-learn.org/stable/modules/generated/sklearn.naive_bayes.MultinomialNB.html):\n",
    "\n",
    "> The multinomial Naive Bayes classifier is suitable for classification with **discrete features** (e.g., word counts for text classification). The multinomial distribution normally requires integer feature counts. However, in practice, fractional counts such as tf-idf may also work."
   ]
  },
  {
   "cell_type": "code",
   "execution_count": 9,
   "metadata": {},
   "outputs": [],
   "source": [
    "# tentukan jumlah topik & jumlah kata per topik\n",
    "n_topics = 10\n",
    "n_top_words = 5"
   ]
  },
  {
   "cell_type": "code",
   "execution_count": 10,
   "metadata": {},
   "outputs": [],
   "source": [
    "from sklearn.decomposition import NMF\n",
    "# hitung faktorisasi matriks\n",
    "nmf = NMF(n_components=n_topics).fit(X_vec)\n",
    "W = nmf.components_\n",
    "H = nmf.transform(X_vec)"
   ]
  },
  {
   "cell_type": "code",
   "execution_count": 11,
   "metadata": {},
   "outputs": [
    {
     "name": "stdout",
     "output_type": "stream",
     "text": [
      "Topic 0 : the of and on way\n",
      "Topic 1 : you are how what do\n",
      "Topic 2 : to your free txt for\n",
      "Topic 3 : my me and can come\n",
      "Topic 4 : call ll sorry later now\n",
      "Topic 5 : gt lt at for min\n",
      "Topic 6 : ok lor then ur go\n",
      "Topic 7 : is this your there for\n",
      "Topic 8 : in am will da be\n",
      "Topic 9 : it that not but so\n"
     ]
    }
   ],
   "source": [
    "# lihat hasil pemodelan\n",
    "feature_names = vect.get_feature_names()\n",
    "for topic_idx, topic in enumerate(nmf.components_):\n",
    "    print(\"Topic \"+str(topic_idx)+\" : \"+\" \".join([feature_names[i]\\\n",
    "             for i in topic.argsort()[:-n_top_words -1:-1]]))"
   ]
  },
  {
   "cell_type": "code",
   "execution_count": null,
   "metadata": {},
   "outputs": [],
   "source": []
  },
  {
   "cell_type": "markdown",
   "metadata": {},
   "source": [
    "### K-Means Clustering"
   ]
  },
  {
   "cell_type": "code",
   "execution_count": 12,
   "metadata": {},
   "outputs": [],
   "source": [
    "from sklearn.cluster import KMeans\n",
    "# lakukan cluster terhadap dokumen\n",
    "kmeans = KMeans(n_clusters=5).fit(X_vec)"
   ]
  },
  {
   "cell_type": "code",
   "execution_count": 13,
   "metadata": {},
   "outputs": [
    {
     "data": {
      "text/plain": [
       "array([1, 1, 0, ..., 1, 3, 1], dtype=int32)"
      ]
     },
     "execution_count": 13,
     "metadata": {},
     "output_type": "execute_result"
    }
   ],
   "source": [
    "kmeans.labels_"
   ]
  },
  {
   "cell_type": "code",
   "execution_count": 17,
   "metadata": {},
   "outputs": [
    {
     "data": {
      "text/plain": [
       "0       Go until jurong point, crazy.. Available only ...\n",
       "1                           Ok lar... Joking wif u oni...\n",
       "3       U dun say so early hor... U c already then say...\n",
       "4       Nah I don't think he goes to usf, he lives aro...\n",
       "5       FreeMsg Hey there darling it's been 3 week's n...\n",
       "6       Even my brother is not like to speak with me. ...\n",
       "10      I'm gonna be home soon and i don't want to tal...\n",
       "14                    I HAVE A DATE ON SUNDAY WITH WILL!!\n",
       "16                             Oh k...i'm watching here:)\n",
       "17      Eh u remember how 2 spell his name... Yes i di...\n",
       "22      So ü pay first lar... Then when is da stock co...\n",
       "23      Aft i finish my lunch then i go str down lor. ...\n",
       "25      Just forced myself to eat a slice. I'm really ...\n",
       "26                         Lol your always so convincing.\n",
       "29      Ahhh. Work. I vaguely remember that! What does...\n",
       "30      Wait that's still not all that clear, were you...\n",
       "31      Yeah he got in at 2 and was v apologetic. n ha...\n",
       "35      Yup... Ok i go home look at the timings then i...\n",
       "38                            Anything lor... U decide...\n",
       "40      Pls go ahead with watts. I just wanted to be s...\n",
       "45                       No calls..messages..missed calls\n",
       "47                        Fair enough, anything going on?\n",
       "48      Yeah hopefully, if tyler can't do it I could m...\n",
       "52      K fyi x has a ride early tomorrow morning but ...\n",
       "57                     Sorry, I'll call later in meeting.\n",
       "59               Yes..gauti and sehwag out of odi series.\n",
       "62                              Its a part of checking IQ\n",
       "63      Sorry my roommates took forever, it ok if I co...\n",
       "64      Ok lar i double check wif da hair dresser alre...\n",
       "66      Today is \"song dedicated day..\" Which song wil...\n",
       "                              ...                        \n",
       "5506    God's love has no limit. God's grace has no me...\n",
       "5509    Lol they were mad at first but then they woke ...\n",
       "5511                It‘s reassuring, in this crazy world.\n",
       "5514                    Oh... Okie lor...We go on sat... \n",
       "5516    Ya, i'm referin to mei's ex wat... No ah, wait...\n",
       "5517    Miles and smiles r made frm same letters but d...\n",
       "5520                     No. I dont want to hear anything\n",
       "5523                              Going to join tomorrow.\n",
       "5529                            What about this one then.\n",
       "5530    I think that tantrum's finished so yeah I'll b...\n",
       "5534                         Ok which your another number\n",
       "5536    Aiyah ok wat as long as got improve can alread...\n",
       "5537    Want explicit SEX in 30 secs? Ring 02073162414...\n",
       "5539                           Just sleeping..and surfing\n",
       "5540    ASKED 3MOBILE IF 0870 CHATLINES INCLU IN FREE ...\n",
       "5541                                Yeah it's jus rite...\n",
       "5543               U still havent got urself a jacket ah?\n",
       "5546           Ic. There are a lotta childporn cars then.\n",
       "5548                   No, I was trying it all weekend ;V\n",
       "5549    You know, wot people wear. T shirts, jumpers, ...\n",
       "5554    Well keep in mind I've only got enough gas for...\n",
       "5555    Yeh. Indians was nice. Tho it did kane me off ...\n",
       "5558                               Sorry, I'll call later\n",
       "5560                    Anything lor. Juz both of us lor.\n",
       "5562    Ok lor... Sony ericsson salesman... I ask shuh...\n",
       "5563                                  Ard 6 like dat lor.\n",
       "5565                                         Huh y lei...\n",
       "5568                 Will ü b going to esplanade fr home?\n",
       "5569    Pity, * was in mood for that. So...any other s...\n",
       "5571                           Rofl. Its true to its name\n",
       "Name: sms, Length: 2801, dtype: object"
      ]
     },
     "execution_count": 17,
     "metadata": {},
     "output_type": "execute_result"
    }
   ],
   "source": [
    "# mengeluarkan sms dengan klaster = 1\n",
    "X[kmeans.labels_==1]"
   ]
  },
  {
   "cell_type": "code",
   "execution_count": null,
   "metadata": {},
   "outputs": [],
   "source": []
  }
 ],
 "metadata": {
  "kernelspec": {
   "display_name": "Python 3",
   "language": "python",
   "name": "python3"
  },
  "language_info": {
   "codemirror_mode": {
    "name": "ipython",
    "version": 3
   },
   "file_extension": ".py",
   "mimetype": "text/x-python",
   "name": "python",
   "nbconvert_exporter": "python",
   "pygments_lexer": "ipython3",
   "version": "3.6.5"
  }
 },
 "nbformat": 4,
 "nbformat_minor": 1
}
